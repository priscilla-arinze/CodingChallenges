{
 "cells": [
  {
   "cell_type": "markdown",
   "metadata": {},
   "source": [
    "# LeetCode: [Valid Anagram](https://leetcode.com/problems/valid-anagram)\n",
    "\n",
    "__Difficulty: Easy__\n",
    "\n",
    "__Data Structure(s): Dictionary/Hashmap__\n",
    "\n",
    "__Techniques(s): Character counts, adding/subtracting counts__\n",
    "\n",
    "<hr>\n",
    "\n",
    "### Description:\n",
    "\n",
    "Given two strings s and t, return true if t is an anagram of s, and false otherwise.\n",
    "\n",
    "An Anagram is a word or phrase formed by rearranging the letters of a different word or phrase, typically using all the original letters exactly once.\n",
    "\n",
    " \n",
    "\n",
    "Example 1:\n",
    "\n",
    "> Input: s = \"anagram\", t = \"nagaram\"<br>Output: true\n",
    "\n",
    "\n",
    "Example 2:\n",
    "\n",
    "> Input: s = \"rat\", t = \"car\"<br>Output: false\n",
    "\n",
    "\n",
    " \n",
    "\n",
    "Constraints:\n",
    "\n",
    "* `1 <= s.length, t.length <= 5 * 104`\n",
    "* s and t consist of lowercase English letters.\n",
    "\n",
    "<hr>"
   ]
  },
  {
   "cell_type": "markdown",
   "metadata": {},
   "source": [
    "Time Complexity: $O(N + N)$\n",
    "\n",
    "Space Complexity: $O(N)$"
   ]
  },
  {
   "cell_type": "markdown",
   "metadata": {},
   "source": [
    "*Better solution -- using two dictionaries*"
   ]
  },
  {
   "cell_type": "code",
   "execution_count": 24,
   "metadata": {},
   "outputs": [
    {
     "name": "stdout",
     "output_type": "stream",
     "text": [
      "False\n",
      "True\n"
     ]
    }
   ],
   "source": [
    "s = \"bb\"\n",
    "t = \"aa\"\n",
    "# s = \"anagram\"\n",
    "# t = \"nagaram\"\n",
    "\n",
    "if (len(s) != len(t)):\n",
    "    print(False)\n",
    "\n",
    "charSumsS = {}\n",
    "charSumsT = {}\n",
    "\n",
    "for index in range(0, len(s)):\n",
    "    charSumsS[s[index]] = charSumsS.get(s[index], 0) + 1\n",
    "    charSumsT[t[index]] = charSumsT.get(t[index], 0) + 1\n",
    "\n",
    "for k, v in charSumsS.items():\n",
    "    if (k not in charSumsT):\n",
    "        print(False)\n",
    "    elif(charSumsT[k] != v):\n",
    "        print(False)\n",
    "\n",
    "print(True)"
   ]
  },
  {
   "cell_type": "markdown",
   "metadata": {},
   "source": [
    "*Using only one dictionary*"
   ]
  },
  {
   "cell_type": "code",
   "execution_count": 4,
   "metadata": {},
   "outputs": [
    {
     "name": "stdout",
     "output_type": "stream",
     "text": [
      "False\n",
      "True\n"
     ]
    }
   ],
   "source": [
    "s1 = \"aa\"\n",
    "s2 = \"bb\"\n",
    "# s1 = \"anagram\"\n",
    "# s2 = \"nagaram\"\n",
    "\n",
    "charCounts = {}\n",
    "\n",
    "if (len(s1) != len(s2)):\n",
    "    print(False)\n",
    "\n",
    "for i in range(0, len(s1)):\n",
    "    charCounts[s1[i]] = charCounts.get(s1[i], 0) + 1\n",
    "    charCounts[s2[i]] = charCounts.get(s2[i], 0) - 1\n",
    "\n",
    "for val in charCounts.values():\n",
    "    if (val != 0):\n",
    "        print(False)\n",
    "        break\n",
    "\n",
    "print(True)"
   ]
  },
  {
   "cell_type": "markdown",
   "metadata": {},
   "source": [
    "*Initial incorrect solution*\n",
    "\n",
    "Did not pass the following test case:\n",
    "s = aa, t = bb"
   ]
  },
  {
   "cell_type": "code",
   "execution_count": 18,
   "metadata": {},
   "outputs": [
    {
     "name": "stdout",
     "output_type": "stream",
     "text": [
      "True\n",
      "{'a': 6, 'n': 2, 'g': 2, 'r': 2, 'm': 2}\n"
     ]
    }
   ],
   "source": [
    "s = \"anagram\"\n",
    "t = \"nagaram\"\n",
    "\n",
    "if (len(s) != len(t)):\n",
    "    print(False)\n",
    "\n",
    "charSums = {}\n",
    "\n",
    "for index in range(0, len(s)):\n",
    "    charSums[s[index]] = charSums.get(s[index], 0) + 1\n",
    "    charSums[t[index]] = charSums.get(t[index], 0) + 1\n",
    "\n",
    "for v in charSums.values():\n",
    "    if v % 2 != 0:\n",
    "        print(False)\n",
    "\n",
    "print(True)\n",
    "\n",
    "print(charSums)"
   ]
  }
 ],
 "metadata": {
  "kernelspec": {
   "display_name": "base",
   "language": "python",
   "name": "python3"
  },
  "language_info": {
   "codemirror_mode": {
    "name": "ipython",
    "version": 3
   },
   "file_extension": ".py",
   "mimetype": "text/x-python",
   "name": "python",
   "nbconvert_exporter": "python",
   "pygments_lexer": "ipython3",
   "version": "3.9.13"
  }
 },
 "nbformat": 4,
 "nbformat_minor": 2
}
