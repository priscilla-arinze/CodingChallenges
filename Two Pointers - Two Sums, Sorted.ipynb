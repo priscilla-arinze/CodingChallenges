{
 "cells": [
  {
   "cell_type": "markdown",
   "metadata": {},
   "source": [
    "# Grokking: Two Sum, Sorted\n",
    "\n",
    "__Difficulty: Easy__\n",
    "\n",
    "__Data Structure(s): Array__\n",
    "\n",
    "__Common Pattern: Two Pointers__\n",
    "\n",
    "<hr>\n",
    "\n",
    "### Description:\n",
    "\n",
    "Given an <u>__array of numbers sorted in ascending order__</u> and a target sum, find a pair in the array whose sum is equal to the given target.\n",
    "\n",
    "Write a function to return the indices of the two numbers (i.e. the pair) such that they add up to the given target.\n",
    "\n",
    "Example 1:\n",
    "\n",
    ">Input: [1, 2, 3, 4, 6], target=6<br>Output: [1, 3]<br>Explanation: The numbers at index 1 and 3 add up to 6: 2+4=6\n",
    "\n",
    "Example 2:\n",
    "\n",
    ">Input: [2, 5, 9, 11], target=11<br>Output: [0, 2]<br>Explanation: The numbers at index 0 and 2 add up to 11: 2+9=11\n",
    "\n",
    "\n",
    "<hr>"
   ]
  },
  {
   "cell_type": "code",
   "execution_count": 5,
   "metadata": {},
   "outputs": [
    {
     "name": "stdout",
     "output_type": "stream",
     "text": [
      "[2, 4]\n",
      "[2, 9]\n",
      "[7, 9]\n",
      "False\n",
      "False\n"
     ]
    }
   ],
   "source": [
    "def TwoSumsSorted(ls, target):\n",
    "    left = 0\n",
    "    right = len(ls) - 1\n",
    "\n",
    "    while(left < right):\n",
    "        current_sum = ls[left] + ls[right]\n",
    "\n",
    "        if current_sum == target:\n",
    "            return [ls[left], ls[right]]\n",
    "\n",
    "        if target > current_sum:\n",
    "            # only update/increase left pointer, keep right pointer at the same place (need a bigger sum)\n",
    "            left += 1 \n",
    "        else:\n",
    "            # only update/decrease right pointer, keep left pointer at the same place (need a smaller sum)\n",
    "            right -= 1\n",
    "    \n",
    "    # if no pairs\n",
    "    return False\n",
    "        \n",
    "\n",
    "\n",
    "print(TwoSumsSorted([1, 2, 3, 4, 6], 6))\n",
    "print(TwoSumsSorted([2, 5, 9, 11], 11))\n",
    "print(TwoSumsSorted([1, 3, 5, 7, 9], 16))\n",
    "print(TwoSumsSorted([1, 2, 4, 6], 4))\n",
    "print(TwoSumsSorted([0, 1, 2, 3], 0))"
   ]
  }
 ],
 "metadata": {
  "kernelspec": {
   "display_name": "Python 3.9.10 ('base')",
   "language": "python",
   "name": "python3"
  },
  "language_info": {
   "codemirror_mode": {
    "name": "ipython",
    "version": 3
   },
   "file_extension": ".py",
   "mimetype": "text/x-python",
   "name": "python",
   "nbconvert_exporter": "python",
   "pygments_lexer": "ipython3",
   "version": "3.9.13"
  },
  "orig_nbformat": 4,
  "vscode": {
   "interpreter": {
    "hash": "3b806cc711b465e66e8252dff191d8681f8b41038e9cbc25fa942edafd26a2d7"
   }
  }
 },
 "nbformat": 4,
 "nbformat_minor": 2
}
