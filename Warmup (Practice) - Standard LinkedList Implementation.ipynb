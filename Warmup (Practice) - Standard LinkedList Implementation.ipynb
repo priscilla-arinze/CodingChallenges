{
 "cells": [
  {
   "cell_type": "markdown",
   "metadata": {},
   "source": [
    "# Practice: Standard LinkedList Implementation (Bare Bones)"
   ]
  },
  {
   "cell_type": "code",
   "execution_count": 13,
   "metadata": {},
   "outputs": [],
   "source": [
    "class Node:\n",
    "    data = None\n",
    "    nextNode = None\n",
    "\n",
    "    def __init__(self, data):\n",
    "        self.data = data\n",
    "\n",
    "    # TO STRING\n",
    "    def __repr__(self) -> str:\n",
    "        return f\"Node({self.data})\"\n",
    "\n",
    "\n",
    "\n",
    "class LinkedList:\n",
    "    def __init__(self):\n",
    "        # NOTE: need to set it equal to a NEW Node object somewhere in the class in order for self.head to be recognized as a Node object\n",
    "        self.head = None\n",
    "\n",
    "    def isEmpty(self) -> bool:\n",
    "        return self.head == None\n",
    "    \n",
    "\n",
    "    # also where we officially initialize self.head as a Node object\n",
    "    def prependItem(self, data):\n",
    "        newNode = Node(data)\n",
    "        newNode.nextNode = self.head\n",
    "\n",
    "        self.head = newNode # new head\n",
    "\n",
    " \n",
    "    def appendItem(self, data):\n",
    "        if self.isEmpty():\n",
    "            self.prependItem(data)\n",
    "\n",
    "        else:\n",
    "            currentNode = self.head\n",
    "\n",
    "            newNode = Node(data)\n",
    "\n",
    "            while currentNode != None:\n",
    "                if currentNode.nextNode == None:\n",
    "                    currentNode.nextNode = newNode\n",
    "                    break\n",
    "\n",
    "                # move on to the next node if nextNode != None\n",
    "                currentNode = currentNode.nextNode\n",
    "\n",
    "\n",
    "    # TO STRING\n",
    "    def __repr__(self) -> str:\n",
    "        if self.isEmpty():\n",
    "            return \"LinkedList is empty\"\n",
    "        \n",
    "        currentNode = self.head \n",
    "\n",
    "        outputStr = \"\"\n",
    "\n",
    "        while currentNode != None:\n",
    "            # HEAD REPRESENTATION:\n",
    "            if currentNode == self.head:\n",
    "                outputStr += f\"[HEAD: {currentNode.data}] --> \"\n",
    "\n",
    "            # TAIL REPRESENTATION:\n",
    "            elif currentNode.nextNode == None:\n",
    "                outputStr += f\"[TAIL: {currentNode.data}]\"\n",
    "\n",
    "            # the rest of the linked list elements representation\n",
    "            else:\n",
    "                outputStr += f\"{currentNode.data} --> \"\n",
    "\n",
    "            currentNode = currentNode.nextNode\n",
    "\n",
    "        return outputStr"
   ]
  },
  {
   "cell_type": "code",
   "execution_count": 14,
   "metadata": {},
   "outputs": [
    {
     "data": {
      "text/plain": [
       "[HEAD: 1] --> 2 --> 3 --> 4 --> [TAIL: 5]"
      ]
     },
     "execution_count": 14,
     "metadata": {},
     "output_type": "execute_result"
    }
   ],
   "source": [
    "nums = LinkedList()\n",
    "nums.appendItem(1)\n",
    "nums.appendItem(2)\n",
    "nums.appendItem(3)\n",
    "nums.appendItem(4)\n",
    "nums.appendItem(5)\n",
    "\n",
    "nums"
   ]
  }
 ],
 "metadata": {
  "kernelspec": {
   "display_name": "base",
   "language": "python",
   "name": "python3"
  },
  "language_info": {
   "codemirror_mode": {
    "name": "ipython",
    "version": 3
   },
   "file_extension": ".py",
   "mimetype": "text/x-python",
   "name": "python",
   "nbconvert_exporter": "python",
   "pygments_lexer": "ipython3",
   "version": "3.9.13"
  },
  "orig_nbformat": 4
 },
 "nbformat": 4,
 "nbformat_minor": 2
}
