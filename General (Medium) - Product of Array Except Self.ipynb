{
 "cells": [
  {
   "cell_type": "markdown",
   "metadata": {},
   "source": [
    "# LeetCode: [Product of Array Except Self](https://leetcode.com/problems/product-of-array-except-self)\n",
    "\n",
    "__Difficulty: Medium__\n",
    "\n",
    "__Data Structure(s): Array__\n",
    "\n",
    "__Techniques: iterating forwards and backwards in two different for loops__\n",
    "\n",
    "<hr>\n",
    "\n",
    "### Description:\n",
    "\n",
    "Given an integer array nums, return *an array answer such that `answer[i]` is equal to the product of all the elements of nums except `nums[i]`*.\n",
    "\n",
    "The product of any prefix or suffix of `nums` is guaranteed to fit in a 32-bit integer.\n",
    "\n",
    "You must write an algorithm that runs in `O(n)` time and without using the division operation.\n",
    "\n",
    " \n",
    "\n",
    "Example 1:\n",
    "\n",
    "Input: nums = [1,2,3,4]<br>Output: [24,12,8,6]\n",
    "\n",
    "Example 2:\n",
    "\n",
    "Input: nums = [-1,1,0,-3,3]<br>Output: [0,0,9,0,0]\n",
    "\n",
    "\n",
    " \n",
    "\n",
    "Constraints:\n",
    "* `2 <= nums.length <= 105`\n",
    "* `-30 <= nums[i] <= 30`\n",
    "* The product of any prefix or suffix of nums is guaranteed to fit in a 32-bit integer.\n",
    "\n",
    "<hr>"
   ]
  },
  {
   "cell_type": "markdown",
   "metadata": {},
   "source": [
    "*A bit better*"
   ]
  },
  {
   "cell_type": "code",
   "execution_count": 7,
   "metadata": {},
   "outputs": [
    {
     "name": "stdout",
     "output_type": "stream",
     "text": [
      "[24, 12, 8, 6]\n"
     ]
    }
   ],
   "source": [
    "nums = [1, 2, 3, 4]\n",
    "result = [1] * len(nums)\n",
    "prefixProduct = 1\n",
    "postfixProduct = 1\n",
    "\n",
    "if (len(result) == 1):\n",
    "    print(result[nums[0]])\n",
    "\n",
    "# forward iteration (prefix, nums before current index)\n",
    "for i in range(0, len(nums)):\n",
    "    result[i] = prefixProduct\n",
    "    prefixProduct *= nums[i]\n",
    "\n",
    "for i in range(len(nums)-1, -1, -1):\n",
    "    result[i] *= postfixProduct\n",
    "    postfixProduct *= nums[i]\n",
    "\n",
    "print(result)"
   ]
  },
  {
   "cell_type": "markdown",
   "metadata": {},
   "source": [
    "*Better solution*\n",
    "\n",
    "Time Complexity: $O(N + N) = O(N)$\n",
    "\n",
    "Space Complexity: $O(1)$"
   ]
  },
  {
   "cell_type": "code",
   "execution_count": 3,
   "metadata": {},
   "outputs": [
    {
     "name": "stdout",
     "output_type": "stream",
     "text": [
      "[24, 12, 8, 6]\n"
     ]
    }
   ],
   "source": [
    "nums = [1, 2, 3, 4]\n",
    "result = [1] * len(nums)\n",
    "prefixProduct = 1\n",
    "postfixProduct = 1\n",
    "\n",
    "if (len(result) == 1):\n",
    "    print(result[nums[0]])\n",
    "\n",
    "# forward iteration (prefix, nums before current index)\n",
    "for i in range(0, len(nums)):\n",
    "    if (i == 0):\n",
    "        result[i] = 1\n",
    "    elif (i == len(nums)-1):\n",
    "        continue\n",
    "    prefixProduct *= nums[i]\n",
    "    result[i + 1] = prefixProduct\n",
    "\n",
    "for i in range(len(nums)-1, -1, -1):\n",
    "    if (i == 0):\n",
    "        result[i] *= 1\n",
    "        continue\n",
    "    postfixProduct *= nums[i]\n",
    "    result[i - 1] *= postfixProduct\n",
    "\n",
    "print(result)"
   ]
  },
  {
   "cell_type": "markdown",
   "metadata": {},
   "source": [
    "*Initial solution, correct but very slow*\n",
    "\n",
    "Time Complexity: $O(N + N + N) = O(N)$\n",
    "\n",
    "Space Complexity: $O(N)$"
   ]
  },
  {
   "cell_type": "code",
   "execution_count": 17,
   "metadata": {},
   "outputs": [
    {
     "name": "stdout",
     "output_type": "stream",
     "text": [
      "[1, 2, 3, 4]\n",
      "[1, 2, 6, 24]\n",
      "[24, 24, 12, 4]\n",
      "[24, 12, 8, 6]\n"
     ]
    }
   ],
   "source": [
    "nums = [1, 2, 3, 4]\n",
    "# nums = [4,3,2,1,2]\n",
    "prefixNums = []\n",
    "postfixNums = []\n",
    "result = []\n",
    "\n",
    "if (len(result) == 1):\n",
    "    print(result[nums[0]])\n",
    "\n",
    "# forward iteration (prefix, nums before current index)\n",
    "for i in range(0, len(nums)):\n",
    "    if (i == 0):\n",
    "        prefixNums.append(nums[i])\n",
    "    elif (i-1 >= 0):\n",
    "        currentRunningProduct = 1\n",
    "        currentPrefixIndex = 0\n",
    "\n",
    "        # continue multiplying nums to the LEFT of current index num\n",
    "        while (currentPrefixIndex <= i):\n",
    "            currentRunningProduct *= nums[currentPrefixIndex]\n",
    "            currentPrefixIndex += 1\n",
    "\n",
    "        prefixNums.append(currentRunningProduct)\n",
    "\n",
    "# reverse iteration (postfix, nums after current index)\n",
    "for i in range(len(nums)-1, -1, -1):\n",
    "    if (i == len(nums)-1):\n",
    "        postfixNums.insert(0, nums[i])\n",
    "    elif (i+1 <= len(nums)-1):\n",
    "        currentRunningProduct = 1\n",
    "        currentPostfixIndex = len(nums)-1\n",
    "\n",
    "        # continue multiplying nums to the RIGHT of current index num\n",
    "        while (currentPostfixIndex >= i):\n",
    "            currentRunningProduct *= nums[currentPostfixIndex]\n",
    "            currentPostfixIndex -= 1\n",
    "\n",
    "        # insert at starting position to keep postfixNums list reversed\n",
    "        postfixNums.insert(0, currentRunningProduct)\n",
    "\n",
    "for i in range(0, len(prefixNums)):\n",
    "    # there is no LEFT neighbor\n",
    "    if (i == 0):\n",
    "        result.append(postfixNums[i+1])\n",
    "    \n",
    "    # there is no RIGHT neighbor\n",
    "    elif (i == len(prefixNums) - 1):\n",
    "        result.append(prefixNums[i-1])\n",
    "    \n",
    "    # there should be an neighbor before and after the current index\n",
    "    else:\n",
    "        result.append(prefixNums[i-1] * postfixNums[i+1])\n",
    "\n",
    "print(nums)\n",
    "print(prefixNums)\n",
    "print(postfixNums)\n",
    "print(result)"
   ]
  }
 ],
 "metadata": {
  "kernelspec": {
   "display_name": "base",
   "language": "python",
   "name": "python3"
  },
  "language_info": {
   "codemirror_mode": {
    "name": "ipython",
    "version": 3
   },
   "file_extension": ".py",
   "mimetype": "text/x-python",
   "name": "python",
   "nbconvert_exporter": "python",
   "pygments_lexer": "ipython3",
   "version": "3.9.13"
  }
 },
 "nbformat": 4,
 "nbformat_minor": 2
}
