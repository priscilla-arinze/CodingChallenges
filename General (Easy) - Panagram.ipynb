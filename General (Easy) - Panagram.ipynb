{
 "cells": [
  {
   "cell_type": "markdown",
   "metadata": {},
   "source": [
    "# Grokking: Pangram ([LeetCode Equivalent](https://leetcode.com/problems/check-if-the-sentence-is-pangram))\n",
    "\n",
    "__Difficulty: Easy__\n",
    "\n",
    "__Data Structure(s): String, Set__\n",
    "\n",
    "__Technique(s): ASCII math, 26 zeros list for alphabet, early checking/early return__\n",
    "\n",
    "<hr>\n",
    "\n",
    "### Description:\n",
    "\n",
    "A pangram is a sentence where every letter of the English alphabet appears at least once.\n",
    "\n",
    "Given a string sentence containing English letters (lower or upper-case), return true if sentence is a pangram, or false otherwise.\n",
    "\n",
    "Note: The given sentence might contain other characters like digits or spaces, your solution should handle these too.\n",
    "\n",
    " \n",
    "\n",
    "Example 1:\n",
    "\n",
    "> Input: sentence = \"TheQuickBrownFoxJumpsOverTheLazyDog\"<br>Output: true<br>Explanation: The sentence contains at least one occurrence of every letter of the English alphabet either in lower or upper case.\n",
    "\n",
    "Example 2:\n",
    "\n",
    "> Input: sentence = \"This is not a pangram\"<br>Output: false<br>Explanation: The sentence doesn't contain at least one occurrence of every letter of the English alphabet.\n",
    "\n",
    "\n",
    "\n",
    "<hr>"
   ]
  },
  {
   "cell_type": "markdown",
   "metadata": {},
   "source": [
    "Time Complexity: $O(N)$\n",
    "\n",
    "Space Complexity: $O(1)$ -- list of 26 numbers will stay constant regardless of $N$"
   ]
  },
  {
   "cell_type": "code",
   "execution_count": 11,
   "metadata": {},
   "outputs": [
    {
     "data": {
      "text/plain": [
       "True"
      ]
     },
     "execution_count": 11,
     "metadata": {},
     "output_type": "execute_result"
    }
   ],
   "source": [
    "def isLetter(char):\n",
    "    if (char == ''):\n",
    "        return False\n",
    "    return ord('a') <= ord(char) <= ord('z')\n",
    "\n",
    "def panagram(s: str):\n",
    "    if(len(s) == 0):\n",
    "        return False\n",
    "\n",
    "    s = s.lower()\n",
    "    alphabet = [0] * 26\n",
    "\n",
    "    for char in s:\n",
    "        if (isLetter(char)):\n",
    "            indexNum = ord(char) - ord('a')\n",
    "            alphabet[indexNum] += 1\n",
    "            # OR: alphabet[indexNum] = 1\n",
    "\n",
    "    for a in alphabet:\n",
    "        if (a < 1):\n",
    "            return False\n",
    "        \n",
    "    \n",
    "    # OR: return sum(alphabet) == 26\n",
    "    \n",
    "    return True\n",
    "\n",
    "panagram(\"TheQuickBrownFoxJumpsOverTheLazyDog\") "
   ]
  },
  {
   "cell_type": "markdown",
   "metadata": {},
   "source": [
    "*Second Attempt (using custom-written alphabetic letter detecting function)*\n",
    "\n",
    "Same time & space complexity as above\n",
    "\n",
    "*__OBSERVATION__: It seems that the built-in `.isalpha()` suffers greatly in time complexity compared to the custom-written ASCII comparison function*"
   ]
  },
  {
   "cell_type": "code",
   "execution_count": 6,
   "metadata": {},
   "outputs": [
    {
     "name": "stdout",
     "output_type": "stream",
     "text": [
      "True\n",
      "False\n",
      "False\n",
      "True\n",
      "True\n"
     ]
    }
   ],
   "source": [
    "def isAlphabetic(char):\n",
    "    upper = ord('A') <= ord(char) <= ord('Z')\n",
    "    lower = ord('a') <= ord(char) <= ord('z')\n",
    "\n",
    "    return upper or lower\n",
    "\n",
    "\n",
    "def panagram(sentence):\n",
    "    # lower case letters only\n",
    "    sentence = sentence.lower()\n",
    "\n",
    "    # declare empty set that will store unqiue alphabetic letters\n",
    "    unique_letters = set()\n",
    "\n",
    "    for char in sentence:\n",
    "        # if not an alphabetic letter, move on the next character\n",
    "        if not isAlphabetic(char):\n",
    "            continue\n",
    "\n",
    "        # keep looping and adding alphabetic characters...\n",
    "        unique_letters.add(char)\n",
    "\n",
    "        # ...until the set reaches 26 letters (whole alphabet), then return True\n",
    "        if len(unique_letters) == 26:\n",
    "            return True\n",
    "\n",
    "\n",
    "    return False\n",
    "\n",
    "print(panagram(\"TheQuickBrownFoxJumpsOverTheLazyDog\"))\n",
    "print(panagram(\"leetcode\"))\n",
    "print(panagram(\"This is not a pangram\"))\n",
    "print(panagram(\"abcdefghijklmnopqrstuvwxyzABCDEFGHIJKLMNOPQRSTUVWXYZ\"))\n",
    "print(panagram(\"abcd5555efghijk###%&%lmnopqrst9991234uvwxyzABCDEFGHIJKLMN012345O$$$$PQRSTUVWXYZ\"))"
   ]
  },
  {
   "cell_type": "markdown",
   "metadata": {},
   "source": [
    "*Initial Attempt (using Python's built-in `.isalpha()` to determine if the given character is an alphabetic letter)*\n",
    "\n",
    "Time Complexity: $O(N)$\n",
    "\n",
    "Space Complexity: $O(1)$ -- *the set can store at most 26 elements, regardless of the size of the string, not requiring additional memory*"
   ]
  },
  {
   "cell_type": "code",
   "execution_count": 4,
   "metadata": {},
   "outputs": [
    {
     "name": "stdout",
     "output_type": "stream",
     "text": [
      "True\n",
      "False\n",
      "False\n",
      "True\n",
      "True\n"
     ]
    }
   ],
   "source": [
    "def panagram(sentence):\n",
    "    # lower case letters only\n",
    "    sentence = sentence.lower()\n",
    "\n",
    "    # declare empty set that will store unqiue alphabetic letters\n",
    "    unique_letters = set()\n",
    "\n",
    "    for char in sentence:\n",
    "        # if not an alphabetic letter, move on the next character\n",
    "        if not char.isalpha():\n",
    "            continue\n",
    "\n",
    "        # keep looping and adding alphabetic characters...\n",
    "        unique_letters.add(char)\n",
    "\n",
    "        # ...until the set reaches 26 letters (whole alphabet), then return True\n",
    "        if len(unique_letters) == 26:\n",
    "            return True\n",
    "\n",
    "\n",
    "    return False\n",
    "\n",
    "print(panagram(\"TheQuickBrownFoxJumpsOverTheLazyDog\"))\n",
    "print(panagram(\"leetcode\"))\n",
    "print(panagram(\"This is not a pangram\"))\n",
    "print(panagram(\"abcdefghijklmnopqrstuvwxyzABCDEFGHIJKLMNOPQRSTUVWXYZ\"))\n",
    "print(panagram(\"abcd5555efghijk###%&%lmnopqrst9991234uvwxyzABCDEFGHIJKLMN012345O$$$$PQRSTUVWXYZ\"))"
   ]
  }
 ],
 "metadata": {
  "kernelspec": {
   "display_name": "base",
   "language": "python",
   "name": "python3"
  },
  "language_info": {
   "codemirror_mode": {
    "name": "ipython",
    "version": 3
   },
   "file_extension": ".py",
   "mimetype": "text/x-python",
   "name": "python",
   "nbconvert_exporter": "python",
   "pygments_lexer": "ipython3",
   "version": "3.9.13"
  },
  "orig_nbformat": 4
 },
 "nbformat": 4,
 "nbformat_minor": 2
}
