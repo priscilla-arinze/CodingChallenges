{
 "cells": [
  {
   "cell_type": "markdown",
   "metadata": {},
   "source": [
    "# LeetCode: [Valid Anagram](https://leetcode.com/problems/valid-anagram/)\n",
    "\n",
    "__Difficulty: Easy__\n",
    "\n",
    "__Data Structure(s): String__\n",
    "\n",
    "__Techniques(s): ASCII math, character counts, adding/subtracting counts__\n",
    "\n",
    "<hr>\n",
    "\n",
    "### Description:\n",
    "\n",
    "Given two strings s and t, return true if t is an anagram of s, and false otherwise.\n",
    "\n",
    "An Anagram is a word or phrase formed by rearranging the letters of a different word or phrase, typically using all the original letters exactly once.\n",
    "\n",
    " \n",
    "\n",
    "Example 1:\n",
    "\n",
    "> Input: s = \"anagram\", t = \"nagaram\"<br>Output: true\n",
    "\n",
    "Example 2:\n",
    "\n",
    "> Input: s = \"rat\", t = \"car\"<br>Output: false\n",
    "\n",
    " \n",
    "\n",
    "Constraints:\n",
    "* 1 <= s.length, t.length <= 5 * 104\n",
    "* s and t consist of lowercase English letters.\n",
    "\n",
    " \n",
    "\n",
    "Follow up: What if the inputs contain Unicode characters? How would you adapt your solution to such a case?\n",
    "\n",
    "<hr>"
   ]
  },
  {
   "cell_type": "markdown",
   "metadata": {},
   "source": [
    "*Fifth and final attempt: ASCII comparison w/ single list (way better time AND space complexity)*\n",
    "\n",
    "__NOTE: this ONLY accounts for the consecutive 26 lowercase alphabet letters on the ASCII chart__\n",
    "* *in that case, __4th attempt below__: it might be worth sacrificing a bit of time & space complexity to include the rest of the other characters*"
   ]
  },
  {
   "cell_type": "code",
   "execution_count": 20,
   "metadata": {},
   "outputs": [
    {
     "name": "stdout",
     "output_type": "stream",
     "text": [
      "True\n",
      "False\n",
      "False\n"
     ]
    }
   ],
   "source": [
    "def isAnagram(s, t):\n",
    "    \"\"\"\n",
    "    :type s: str\n",
    "    :type t: str\n",
    "    :rtype: bool\n",
    "    \"\"\"\n",
    "    if len(s) != len(t):\n",
    "        return False\n",
    "\n",
    "    # create a list of 26 zeros that will each represent a frequency for each letter in the alphabet\n",
    "    alphabet_frequency = [0] * 26\n",
    "        \n",
    "    # increment the frequency of characters in string s\n",
    "    for x in s:\n",
    "        alphabet_frequency[ord(x) - ord('a')] += 1\n",
    "    \n",
    "    # decrement the frequency of characters in string t\n",
    "    for x in t:\n",
    "        alphabet_frequency[ord(x) - ord('a')] -= 1\n",
    "    \n",
    "\n",
    "    ## GOAL: if anagrams, the incrementing/decrementing should result in a list of all 26 zeros (like it was originally)\n",
    "        # otherwise, if there is any non-zerp numbers in list, then there are odd characters --> not an anagram\n",
    "\n",
    "    # Check if any character has non-zero frequency\n",
    "    for val in alphabet_frequency:\n",
    "        if val != 0:\n",
    "            return False\n",
    "    \n",
    "    return True\n",
    "\n",
    "\n",
    "print(isAnagram(\"anagram\", \"nagaram\"))\n",
    "print(isAnagram(\"rat\", \"car\"))\n",
    "print(isAnagram(\"aa\", \"bb\"))"
   ]
  },
  {
   "cell_type": "markdown",
   "metadata": {},
   "source": [
    "*Fourth Attempt (better time complexity, better space complexity)*\n",
    "\n",
    "Basically the corrected version of the initial attempt"
   ]
  },
  {
   "cell_type": "code",
   "execution_count": 19,
   "metadata": {},
   "outputs": [
    {
     "name": "stdout",
     "output_type": "stream",
     "text": [
      "True\n",
      "False\n",
      "False\n"
     ]
    }
   ],
   "source": [
    "def isAnagram(s, t):\n",
    "    \"\"\"\n",
    "    :type s: str\n",
    "    :type t: str\n",
    "    :rtype: bool\n",
    "    \"\"\"\n",
    "    if len(s) != len(t):\n",
    "        return False\n",
    "\n",
    "    letter_frequency = dict()\n",
    "\n",
    "    for i in range(len(s)):\n",
    "        letter_frequency[s[i]] = letter_frequency.get(s[i], 0) + 1\n",
    "        letter_frequency[t[i]] = letter_frequency.get(t[i], 0) - 1\n",
    "\n",
    "    for val in letter_frequency.values():\n",
    "        if val != 0:\n",
    "            return False\n",
    "\n",
    "    return True\n",
    "\n",
    "\n",
    "print(isAnagram(\"anagram\", \"nagaram\"))\n",
    "print(isAnagram(\"rat\", \"car\"))\n",
    "print(isAnagram(\"aa\", \"bb\")) # NOW PASSES"
   ]
  },
  {
   "cell_type": "markdown",
   "metadata": {},
   "source": [
    "*Third Attempt (a little bit better space complexity, but worse time complexity $O(N + (N * log N))$ b/c sorting)*\n",
    "\n",
    "not a fan of this solution tbh"
   ]
  },
  {
   "cell_type": "code",
   "execution_count": 12,
   "metadata": {},
   "outputs": [
    {
     "name": "stdout",
     "output_type": "stream",
     "text": [
      "True\n",
      "False\n",
      "False\n"
     ]
    }
   ],
   "source": [
    "def isAnagram(s, t):\n",
    "    \"\"\"\n",
    "    :type s: str\n",
    "    :type t: str\n",
    "    :rtype: bool\n",
    "    \"\"\"\n",
    "    return sorted(s) == sorted(t)\n",
    "\n",
    "\n",
    "print(isAnagram(\"anagram\", \"nagaram\"))\n",
    "print(isAnagram(\"rat\", \"car\"))\n",
    "print(isAnagram(\"aa\", \"bb\")) # NOW PASSES"
   ]
  },
  {
   "cell_type": "markdown",
   "metadata": {},
   "source": [
    "*Second Attempt (worse space complexity because needs a separate dictionary for each string)*"
   ]
  },
  {
   "cell_type": "code",
   "execution_count": 14,
   "metadata": {},
   "outputs": [
    {
     "data": {
      "text/plain": [
       "[0, 0, 0, 0, 0, 0, 0, 0, 0, 0, 0, 0, 0, 0, 0, 0, 0, 0, 0, 0, 0, 0, 0, 0, 0, 0]"
      ]
     },
     "execution_count": 14,
     "metadata": {},
     "output_type": "execute_result"
    }
   ],
   "source": [
    "d = [0] * 26\n",
    "\n",
    "d"
   ]
  },
  {
   "cell_type": "code",
   "execution_count": 8,
   "metadata": {},
   "outputs": [
    {
     "name": "stdout",
     "output_type": "stream",
     "text": [
      "True\n",
      "False\n",
      "False\n"
     ]
    }
   ],
   "source": [
    "def isAnagram(s, t):\n",
    "    \"\"\"\n",
    "    :type s: str\n",
    "    :type t: str\n",
    "    :rtype: bool\n",
    "    \"\"\"\n",
    "    if len(s) != len(t):\n",
    "        return False\n",
    "\n",
    "    letter_frequency_s = dict()\n",
    "    letter_frequency_t = dict()\n",
    "\n",
    "    for i in range(len(s)):\n",
    "        letter_frequency_s[s[i]] = letter_frequency_s.get(s[i], 0) + 1\n",
    "        letter_frequency_t[t[i]] = letter_frequency_t.get(t[i], 0) + 1\n",
    "\n",
    "    for key in letter_frequency_s:\n",
    "        if letter_frequency_s[key] != letter_frequency_t.get(key, 0):\n",
    "            return False\n",
    "\n",
    "    return True\n",
    "\n",
    "\n",
    "print(isAnagram(\"anagram\", \"nagaram\"))\n",
    "print(isAnagram(\"rat\", \"car\"))\n",
    "print(isAnagram(\"aa\", \"bb\")) # NOW PASSES"
   ]
  },
  {
   "cell_type": "markdown",
   "metadata": {},
   "source": [
    "*Initial Attempt -- 87% test cases passed*"
   ]
  },
  {
   "cell_type": "code",
   "execution_count": 18,
   "metadata": {},
   "outputs": [
    {
     "name": "stdout",
     "output_type": "stream",
     "text": [
      "True\n",
      "False\n",
      "True\n"
     ]
    }
   ],
   "source": [
    "def isAnagram(s, t):\n",
    "    \"\"\"\n",
    "    :type s: str\n",
    "    :type t: str\n",
    "    :rtype: bool\n",
    "    \"\"\"\n",
    "    if len(s) != len(t):\n",
    "        return False\n",
    "\n",
    "    letter_frequency = dict()\n",
    "\n",
    "    for i in range(len(s)):\n",
    "        letter_frequency[s[i]] = letter_frequency.get(s[i], 0) + 1\n",
    "        letter_frequency[t[i]] = letter_frequency.get(t[i], 0) + 1\n",
    "\n",
    "    for val in letter_frequency.values():\n",
    "        if val % 2 != 0:\n",
    "            return False\n",
    "\n",
    "    return True\n",
    "\n",
    "\n",
    "print(isAnagram(\"anagram\", \"nagaram\"))\n",
    "print(isAnagram(\"rat\", \"car\"))\n",
    "print(isAnagram(\"aa\", \"bb\")) # FAILED: expected false"
   ]
  }
 ],
 "metadata": {
  "kernelspec": {
   "display_name": "base",
   "language": "python",
   "name": "python3"
  },
  "language_info": {
   "codemirror_mode": {
    "name": "ipython",
    "version": 3
   },
   "file_extension": ".py",
   "mimetype": "text/x-python",
   "name": "python",
   "nbconvert_exporter": "python",
   "pygments_lexer": "ipython3",
   "version": "3.9.13"
  },
  "orig_nbformat": 4
 },
 "nbformat": 4,
 "nbformat_minor": 2
}
