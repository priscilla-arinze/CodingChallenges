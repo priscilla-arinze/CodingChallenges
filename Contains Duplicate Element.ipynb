{
 "cells": [
  {
   "cell_type": "markdown",
   "metadata": {},
   "source": [
    "# Grokking: Contains Duplicate Element\n",
    "\n",
    "__Data Structure(s): Array, Set__\n",
    "\n",
    "<hr>\n",
    "\n",
    "### Description:\n",
    "\n",
    "Given an integer array nums, return true if any value appears at least twice in the array, and return false if every element is distinct.\n",
    "\n",
    "Example 1:\n",
    "\n",
    "> Input: nums= [1, 2, 3, 4]<br>Output: false  <br>Explanation: There are no duplicates in the given array.\n",
    "\n",
    "Example 2:\n",
    "\n",
    "> Input: nums= [1, 2, 3, 1]<br>Output: true  <br>Explanation: '1' is repeating.\n"
   ]
  },
  {
   "cell_type": "markdown",
   "metadata": {},
   "source": [
    "just converted the list to a set (no duplicates allowed) & compared the lengths"
   ]
  },
  {
   "cell_type": "code",
   "execution_count": 3,
   "metadata": {},
   "outputs": [
    {
     "name": "stdout",
     "output_type": "stream",
     "text": [
      "False\n",
      "True\n",
      "False\n",
      "True\n"
     ]
    }
   ],
   "source": [
    "def containsDuplicate(nums):\n",
    "    unique_nums = set(nums)\n",
    "    if len(unique_nums) != len(nums):\n",
    "        return True\n",
    "    return False\n",
    "\n",
    "print(containsDuplicate([1,2,3,4]))\n",
    "print(containsDuplicate([2,2,3,4]))\n",
    "print(containsDuplicate([1]))\n",
    "print(containsDuplicate(['a', 'a', 'b', 'c']))"
   ]
  },
  {
   "cell_type": "markdown",
   "metadata": {},
   "source": [
    "above solution revised that is less memory-intensive"
   ]
  },
  {
   "cell_type": "code",
   "execution_count": 1,
   "metadata": {},
   "outputs": [
    {
     "name": "stdout",
     "output_type": "stream",
     "text": [
      "False\n",
      "True\n",
      "False\n",
      "True\n"
     ]
    }
   ],
   "source": [
    "def containsDuplicate2(nums):\n",
    "    unique_nums = set()\n",
    "    \n",
    "    for n in nums:\n",
    "        # as we iterate over the list, if we arrive to a element that is already in the set, \n",
    "            # stop adding elements to set and return True\n",
    "        # MEMORY PRO: compared to to above solution, if duplicates are at the beginning of the list, \n",
    "            # we don't have to add the rest of the list's elements to the set\n",
    "        if n in unique_nums:\n",
    "            return True\n",
    "        \n",
    "        # if no duplicates yet, keep adding to set\n",
    "        unique_nums.add(n)\n",
    "    return False\n",
    "\n",
    "print(containsDuplicate2([1,2,3,4]))\n",
    "print(containsDuplicate2([2,2,3,4]))\n",
    "print(containsDuplicate2([1]))\n",
    "print(containsDuplicate2(['a', 'a', 'b', 'c']))"
   ]
  }
 ],
 "metadata": {
  "kernelspec": {
   "display_name": "base",
   "language": "python",
   "name": "python3"
  },
  "language_info": {
   "codemirror_mode": {
    "name": "ipython",
    "version": 3
   },
   "file_extension": ".py",
   "mimetype": "text/x-python",
   "name": "python",
   "nbconvert_exporter": "python",
   "pygments_lexer": "ipython3",
   "version": "3.9.13"
  },
  "orig_nbformat": 4
 },
 "nbformat": 4,
 "nbformat_minor": 2
}
