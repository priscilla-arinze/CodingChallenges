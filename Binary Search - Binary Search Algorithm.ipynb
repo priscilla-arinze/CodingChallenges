{
 "cells": [
  {
   "cell_type": "markdown",
   "metadata": {},
   "source": [
    "# LeetCode: [Binary Search Algorithm](https://leetcode.com/problems/two-sum)\n",
    "\n",
    "__Difficulty: Easy__\n",
    "\n",
    "__Data Structure(s): Array__\n",
    "\n",
    "__Common Pattern: Binary Search__\n",
    "\n",
    "<hr>\n",
    "\n",
    "Given an array of integers nums which is sorted in ascending order, and an integer target, write a function to search target in nums. If target exists, then return its index. Otherwise, return -1.\n",
    "\n",
    "You must write an algorithm with $O(log N)$ runtime complexity.\n",
    "\n",
    " \n",
    "\n",
    "Example 1:\n",
    "\n",
    "> Input: nums = [-1,0,3,5,9,12], target = 9<br>Output: 4<br>Explanation: 9 exists in nums and its index is 4\n",
    "\n",
    "Example 2:\n",
    "\n",
    "> Input: nums = [-1,0,3,5,9,12], target = 2<br>Output: -1<br>Explanation: 2 does not exist in nums so return -1\n",
    "\n",
    " \n",
    "\n",
    "Constraints:\n",
    "* `1 <= nums.length <= 104`\n",
    "* `-104 < nums[i], target < 104`\n",
    "* All the integers in nums are unique.\n",
    "* nums is sorted in ascending order.\n",
    "\n",
    "\n",
    "<hr>"
   ]
  },
  {
   "cell_type": "code",
   "execution_count": 5,
   "metadata": {},
   "outputs": [
    {
     "name": "stdout",
     "output_type": "stream",
     "text": [
      "3\n"
     ]
    },
    {
     "data": {
      "text/plain": [
       "[2, 4, 6]"
      ]
     },
     "execution_count": 5,
     "metadata": {},
     "output_type": "execute_result"
    }
   ],
   "source": [
    "ls = [2,4,6,8,10,12]\n",
    "print(len(ls)//2)\n",
    "ls[0:(len(ls)//2)]"
   ]
  },
  {
   "cell_type": "code",
   "execution_count": 8,
   "metadata": {},
   "outputs": [
    {
     "data": {
      "text/plain": [
       "[]"
      ]
     },
     "execution_count": 8,
     "metadata": {},
     "output_type": "execute_result"
    }
   ],
   "source": [
    "ls[1:1]"
   ]
  },
  {
   "cell_type": "code",
   "execution_count": 7,
   "metadata": {},
   "outputs": [
    {
     "name": "stdout",
     "output_type": "stream",
     "text": [
      "1\n"
     ]
    }
   ],
   "source": [
    "print(3//2)"
   ]
  },
  {
   "attachments": {
    "image.png": {
     "image/png": "[encoded data removed]"
    }
   },
   "cell_type": "markdown",
   "metadata": {},
   "source": [
    "*Iterative/2-pointer approach*\n",
    "\n",
    "![image.png](attachment:image.png)"
   ]
  },
  {
   "cell_type": "code",
   "execution_count": 6,
   "metadata": {},
   "outputs": [
    {
     "name": "stdout",
     "output_type": "stream",
     "text": [
      "-1\n",
      "1\n",
      "2\n",
      "4\n",
      "0\n",
      "5\n",
      "-1\n"
     ]
    }
   ],
   "source": [
    "def binarySearchIterative(ls: list, target):\n",
    "    startPointer = 0\n",
    "    endPointer = len(ls) - 1\n",
    "    \n",
    "    \n",
    "    while startPointer <= endPointer:\n",
    "        startElement = ls[startPointer]\n",
    "        endElement = ls[endPointer]\n",
    "\n",
    "        # halfway point FROM STARTING POINTER to ending pointer\n",
    "        halfwayIndex = startPointer + (endPointer - startPointer) // 2\n",
    "        halfwayElement = ls[halfwayIndex]\n",
    "        \n",
    "        if startElement == target:\n",
    "            return startPointer\n",
    "        elif halfwayElement == target:\n",
    "            return halfwayIndex\n",
    "        elif endElement == target:\n",
    "            return endPointer\n",
    "    \n",
    "        # LEFT SIDE\n",
    "        if target < halfwayElement:\n",
    "            # DIVIDE/CONQUER: continue w/ iteration if no matches yet\n",
    "                # change ending pointer from end of list to halfway point (BEGINNING -> HALFWAY)\n",
    "            endPointer = halfwayIndex - 1\n",
    "        \n",
    "        # RIGHT SIDE\n",
    "        else:\n",
    "            # DIVIDE/CONQUER: continue w/ iteration if no matches yet\n",
    "                # change starting point from beginning of list to halfway point (HALFWAY -> END)\n",
    "            startPointer = halfwayIndex + 1\n",
    "\n",
    "    return -1\n",
    "\n",
    "\n",
    "\n",
    "\n",
    "ls2 = [2,4,6,8,10,12]\n",
    "print(binarySearchIterative(ls2, 5))\n",
    "print(binarySearchIterative(ls2, 4))\n",
    "print(binarySearchIterative(ls2, 6))\n",
    "print(binarySearchIterative(ls2, 10))\n",
    "print(binarySearchIterative(ls2, 2))\n",
    "print(binarySearchIterative(ls2, 12))\n",
    "print(binarySearchIterative(ls2, 7))"
   ]
  },
  {
   "cell_type": "markdown",
   "metadata": {},
   "source": [
    "*Recursive approach*\n",
    "\n",
    "Implemented not as the LeetCode solution, but as a recursive version w/ boolean output"
   ]
  },
  {
   "cell_type": "code",
   "execution_count": 28,
   "metadata": {},
   "outputs": [
    {
     "name": "stdout",
     "output_type": "stream",
     "text": [
      "False\n",
      "True\n",
      "True\n",
      "True\n",
      "True\n",
      "False\n"
     ]
    }
   ],
   "source": [
    "def binarySearchRecursive(ls: list, target):\n",
    "    if len(ls) == 0:\n",
    "        return False\n",
    "\n",
    "    startIndex = 0\n",
    "    startElement = ls[startIndex]\n",
    "    halfwayIndex = len(ls) // 2\n",
    "    halfwayElement = ls[halfwayIndex]\n",
    "    endIndex = len(ls) - 1\n",
    "    endElement = ls[endIndex]\n",
    "\n",
    "    if startElement == target or halfwayElement == target or endElement == target:\n",
    "        return True\n",
    "    \n",
    "    # LEFT SIDE\n",
    "    if target < halfwayElement:\n",
    "        new_ls_left = ls[startIndex:halfwayIndex]\n",
    "\n",
    "        # if new list is empty:\n",
    "        if len(new_ls_left) == 0:\n",
    "            return False\n",
    "        \n",
    "        # if there's only 1 element remaining in new list:\n",
    "        elif len(new_ls_left) == 1: \n",
    "            if target == new_ls_left[0]:\n",
    "                return True\n",
    "            else:\n",
    "                return False \n",
    "            \n",
    "        else:\n",
    "            return binarySearchRecursive(new_ls_left, target)\n",
    "    \n",
    "    # RIGHT SIDE\n",
    "    else:\n",
    "        new_ls_right = ls[halfwayIndex+1:endIndex]\n",
    "        \n",
    "        # if new list is empty:\n",
    "        if len(new_ls_right) == 0:\n",
    "            return False\n",
    "        \n",
    "        # if there's only 1 element remaining in new list:\n",
    "        if len(new_ls_right) == 1: \n",
    "            if target == new_ls_right[0]:\n",
    "                return True\n",
    "            else:\n",
    "                return False \n",
    "        else:\n",
    "            return binarySearchRecursive(new_ls_right, target)\n",
    "\n",
    "\n",
    "\n",
    "\n",
    "ls3 = [2,4,6,8,10,12]\n",
    "print(binarySearchRecursive(ls3, 5))\n",
    "print(binarySearchRecursive(ls3, 4))\n",
    "print(binarySearchRecursive(ls3, 10))\n",
    "print(binarySearchRecursive(ls3, 2))\n",
    "print(binarySearchRecursive(ls3, 12))\n",
    "print(binarySearchRecursive(ls3, 7))"
   ]
  }
 ],
 "metadata": {
  "kernelspec": {
   "display_name": "base",
   "language": "python",
   "name": "python3"
  },
  "language_info": {
   "codemirror_mode": {
    "name": "ipython",
    "version": 3
   },
   "file_extension": ".py",
   "mimetype": "text/x-python",
   "name": "python",
   "nbconvert_exporter": "python",
   "pygments_lexer": "ipython3",
   "version": "3.9.13"
  },
  "orig_nbformat": 4
 },
 "nbformat": 4,
 "nbformat_minor": 2
}
