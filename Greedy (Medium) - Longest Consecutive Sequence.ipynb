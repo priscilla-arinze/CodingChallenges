{
 "cells": [
  {
   "cell_type": "markdown",
   "metadata": {},
   "source": [
    "# LeetCode: [Longest Consecutive Sequence](https://leetcode.com/problems/longest-consecutive-sequence/)\n",
    "\n",
    "__Difficulty: Medium__\n",
    "\n",
    "__Data Structure(s): Array, Set__\n",
    "\n",
    "__Common Pattern: Greedy Algorithm__\n",
    "\n",
    "<hr>\n",
    "\n",
    "### Description:\n",
    "\n",
    "Given an unsorted array of integers nums, return *the length of the longest consecutive elements sequence*.\n",
    "\n",
    "You must write an algorithm that runs in $O(N)$ time.\n",
    "\n",
    " \n",
    "\n",
    "Example 1:\n",
    "\n",
    "> Input: nums = [100,4,200,1,3,2] <br>\n",
    "> Output: 4 <br>\n",
    "> Explanation: The longest consecutive elements sequence is [1, 2, 3, 4]. Therefore its length is 4. <br>\n",
    "\n",
    "Example 2:\n",
    "\n",
    "> Input: nums = [0,3,7,2,5,8,4,6,0,1] <br>\n",
    "> Output: 9\n",
    "\n",
    "\n",
    "\n",
    " \n",
    "\n",
    "Constraints:\n",
    "\n",
    "* `1 <= s.length <= 2 * 105`\n",
    "* s consists only of printable ASCII characters.\n",
    "\n",
    "<hr>"
   ]
  },
  {
   "cell_type": "markdown",
   "metadata": {},
   "source": [
    "Time Complexity: $O(N + N)$ == $O(2N)$ == $O(N)$\n",
    "* 1st $O(N)$: coverting list of nums to set\n",
    "* 2nd $O(N)$: iterating through list\n",
    "* *NOTE: Element searches in a set is $O(1)$ time*\n",
    "\n",
    "Space Complexity: $O(N)$\n",
    "* Every element from the input nums list is placed into a new data structure (set)"
   ]
  },
  {
   "cell_type": "code",
   "execution_count": 1,
   "metadata": {},
   "outputs": [],
   "source": [
    "def longestConsecutive(nums) -> int:\n",
    "    numsSet = set(nums)\n",
    "    longestSequence = 1\n",
    "\n",
    "    if len(nums) == 0:\n",
    "        return 0\n",
    "\n",
    "    for num in nums:\n",
    "        leftNeighbor = num - 1\n",
    "\n",
    "        # if current num doesn't have a left neighbor, start a new sequence and start counting\n",
    "        if leftNeighbor not in numsSet:\n",
    "            nextNumInSequence = num + 1\n",
    "            currentRunningSequence = 1\n",
    "\n",
    "            while nextNumInSequence in numsSet:\n",
    "                nextNumInSequence += 1\n",
    "                currentRunningSequence += 1\n",
    "\n",
    "            longestSequence = max(longestSequence, currentRunningSequence)\n",
    "\n",
    "    return longestSequence"
   ]
  },
  {
   "cell_type": "code",
   "execution_count": 2,
   "metadata": {},
   "outputs": [
    {
     "name": "stdout",
     "output_type": "stream",
     "text": [
      "4\n",
      "9\n",
      "1\n",
      "0\n"
     ]
    }
   ],
   "source": [
    "print(longestConsecutive([100,4,200,1,3,2]))\n",
    "print(longestConsecutive([0,3,7,2,5,8,4,6,0,1]))\n",
    "print(longestConsecutive([7]))\n",
    "print(longestConsecutive([]))"
   ]
  }
 ],
 "metadata": {
  "kernelspec": {
   "display_name": "base",
   "language": "python",
   "name": "python3"
  },
  "language_info": {
   "codemirror_mode": {
    "name": "ipython",
    "version": 3
   },
   "file_extension": ".py",
   "mimetype": "text/x-python",
   "name": "python",
   "nbconvert_exporter": "python",
   "pygments_lexer": "ipython3",
   "version": "3.9.13"
  }
 },
 "nbformat": 4,
 "nbformat_minor": 2
}
