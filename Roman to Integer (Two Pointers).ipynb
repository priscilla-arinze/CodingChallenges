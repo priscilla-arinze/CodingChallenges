{
 "cells": [
  {
   "cell_type": "markdown",
   "metadata": {},
   "source": [
    "# LeetCode: [Roman to Integer](https://leetcode.com/problems/roman-to-integer/)\n",
    "\n",
    "__Difficulty: Easy__\n",
    "\n",
    "__Data Structure(s): String, Dictionary/Hashtable__\n",
    "\n",
    "__Common Pattern: Two Pointers__\n",
    "\n",
    "<hr>\n",
    "\n",
    "### Description:\n",
    "\n",
    "Roman numerals are represented by seven different symbols: I, V, X, L, C, D and M.\n",
    "\n",
    "Symbol       Value\n",
    "I             1\n",
    "V             5\n",
    "X             10\n",
    "L             50\n",
    "C             100\n",
    "D             500\n",
    "M             1000\n",
    "\n",
    "For example, 2 is written as II in Roman numeral, just two ones added together. 12 is written as XII, which is simply X + II. The number 27 is written as XXVII, which is XX + V + II.\n",
    "\n",
    "Roman numerals are usually written largest to smallest from left to right. However, the numeral for four is not IIII. Instead, the number four is written as IV. Because the one is before the five we subtract it making four. The same principle applies to the number nine, which is written as IX. There are six instances where subtraction is used:\n",
    "\n",
    "    I can be placed before V (5) and X (10) to make 4 and 9. \n",
    "    X can be placed before L (50) and C (100) to make 40 and 90. \n",
    "    C can be placed before D (500) and M (1000) to make 400 and 900.\n",
    "\n",
    "Given a roman numeral, convert it to an integer.\n",
    "\n",
    " \n",
    "\n",
    "Example 1:\n",
    "\n",
    "> Input: s = \"III\"<br>Output: 3<br>Explanation: III = 3.\n",
    "\n",
    "Example 2:\n",
    "\n",
    ">Input: s = \"LVIII\"<br>Output: 58<br>Explanation: L = 50, V= 5, III = 3.\n",
    "\n",
    "Example 3:\n",
    "\n",
    ">Input: s = \"MCMXCIV\"<br>Output: 1994<br>Explanation: M = 1000, CM = 900, XC = 90 and IV = 4.\n",
    "\n",
    " \n",
    "\n",
    "Constraints:\n",
    "* `1 <= s.length <= 15`\n",
    "* s contains only the characters ('I', 'V', 'X', 'L', 'C', 'D', 'M').\n",
    "* It is guaranteed that s is a valid roman numeral in the range [1, 3999]\n",
    "\n",
    "\n",
    "<hr>"
   ]
  },
  {
   "cell_type": "markdown",
   "metadata": {},
   "source": [
    "Two Pointers Approach -- second (better) attempt:"
   ]
  },
  {
   "cell_type": "code",
   "execution_count": 33,
   "metadata": {},
   "outputs": [],
   "source": [
    "def romanToInt2(s: str) -> int:\n",
    "\n",
    "    # roman numeral mapping\n",
    "    romanNumerals = {\n",
    "        'I': 1,\n",
    "        'V': 5,\n",
    "        'X': 10,\n",
    "        'L': 50,\n",
    "        'C': 100,\n",
    "        'D': 500,\n",
    "        'M': 1000,\n",
    "    }\n",
    "\n",
    "    # running sum\n",
    "    sum = 0\n",
    "\n",
    "    startingIndex = 0\n",
    "\n",
    "    while startingIndex < len(s):\n",
    "\n",
    "        # once we reach the very last numeral in the string, we don't have to worry about keeping track\n",
    "        # of 2 consecutive numerals at once, just add the last numeral to the running sum\n",
    "        if startingIndex == (len(s) - 1):\n",
    "            sum += romanNumerals[s[startingIndex]]\n",
    "            break\n",
    "\n",
    "        # keep track of 2 consecutive numerals at the same time, just to see if there are \n",
    "        # any combined numerals where the 1st numeral < 2nd numeral (i.e. IV)\n",
    "        numeral1 = romanNumerals[s[startingIndex]]\n",
    "        numeral2 = romanNumerals[s[startingIndex + 1]]\n",
    "\n",
    "        if numeral2 > numeral1:\n",
    "            # e.g. IV  ==>  V(5) - I(1) == 4\n",
    "            tempSum = numeral2 - numeral1\n",
    "\n",
    "            # add combined numeral sum to running sum\n",
    "            sum += tempSum\n",
    "\n",
    "            # since we took care of adding two numerals at once, skip the 2nd numeral by increasing the index by 2 instead of 1\n",
    "            startingIndex += 2\n",
    "\n",
    "        # if the 1st numeral > 2nd numeral, then just add the current numeral to running sum\n",
    "        else:\n",
    "            sum += romanNumerals[s[startingIndex]]\n",
    "\n",
    "            startingIndex += 1 \n",
    "\n",
    "\n",
    "    return sum"
   ]
  },
  {
   "cell_type": "code",
   "execution_count": 34,
   "metadata": {},
   "outputs": [
    {
     "data": {
      "text/plain": [
       "144"
      ]
     },
     "execution_count": 34,
     "metadata": {},
     "output_type": "execute_result"
    }
   ],
   "source": [
    "s = 'CXLIV'\n",
    "\n",
    "romanToInt2(s)"
   ]
  },
  {
   "cell_type": "markdown",
   "metadata": {},
   "source": [
    "Initial (Pythonic) attempt:"
   ]
  },
  {
   "cell_type": "code",
   "execution_count": 24,
   "metadata": {},
   "outputs": [],
   "source": [
    "def romanToInt1(s: str) -> int:\n",
    "    romanNumerals = {\n",
    "        'I': 1,\n",
    "        'V': 5,\n",
    "        'X': 10,\n",
    "        'L': 50,\n",
    "        'C': 100,\n",
    "        'D': 500,\n",
    "        'M': 1000,\n",
    "\n",
    "        'IV': 4,\n",
    "        'IX': 9,\n",
    "        'XL': 40,\n",
    "        'XC': 90,\n",
    "        'CD': 400,\n",
    "        'CM': 900,\n",
    "\n",
    "    }\n",
    "\n",
    "    exceptions = ['IV', 'IX', 'XL', 'XC', 'CD', 'CM']\n",
    "    exceptions_in_s = any(exception in s for exception in exceptions) # boolean for if any substring in above list exist in s\n",
    "\n",
    "\n",
    "    sum = 0\n",
    "\n",
    "    startingIndex = 0\n",
    "\n",
    "    while startingIndex < len(s):\n",
    "\n",
    "        if startingIndex != ( len(s) - 1 ) and s[startingIndex] + \"\" + s[startingIndex + 1] in exceptions:\n",
    "            sum += romanNumerals[s[startingIndex] + \"\" + s[startingIndex + 1]]\n",
    "\n",
    "            if startingIndex + 2 > (len(s) - 1):\n",
    "                break\n",
    "\n",
    "            startingIndex += 2\n",
    "            continue\n",
    "\n",
    "\n",
    "        sum += romanNumerals[s[startingIndex]]\n",
    "\n",
    "        startingIndex += 1\n",
    "\n",
    "    return sum"
   ]
  },
  {
   "cell_type": "code",
   "execution_count": 25,
   "metadata": {},
   "outputs": [
    {
     "data": {
      "text/plain": [
       "144"
      ]
     },
     "execution_count": 25,
     "metadata": {},
     "output_type": "execute_result"
    }
   ],
   "source": [
    "s = 'CXLIV'\n",
    "\n",
    "romanToInt1(s)"
   ]
  }
 ],
 "metadata": {
  "kernelspec": {
   "display_name": "Python 3.9.10 ('base')",
   "language": "python",
   "name": "python3"
  },
  "language_info": {
   "codemirror_mode": {
    "name": "ipython",
    "version": 3
   },
   "file_extension": ".py",
   "mimetype": "text/x-python",
   "name": "python",
   "nbconvert_exporter": "python",
   "pygments_lexer": "ipython3",
   "version": "3.9.10"
  },
  "orig_nbformat": 4,
  "vscode": {
   "interpreter": {
    "hash": "3b806cc711b465e66e8252dff191d8681f8b41038e9cbc25fa942edafd26a2d7"
   }
  }
 },
 "nbformat": 4,
 "nbformat_minor": 2
}
