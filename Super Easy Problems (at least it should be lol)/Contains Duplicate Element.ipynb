{
 "cells": [
  {
   "cell_type": "markdown",
   "metadata": {},
   "source": [
    "# Grokking: Contains Duplicate Element\n",
    "\n",
    "__Data Structure(s): Array, Set__\n",
    "\n",
    "<hr>\n",
    "\n",
    "### Description:\n",
    "\n",
    "Given an integer array nums, return true if any value appears at least twice in the array, and return false if every element is distinct.\n",
    "\n",
    "Example 1:\n",
    "\n",
    "> Input: nums= [1, 2, 3, 4]<br>Output: false  <br>Explanation: There are no duplicates in the given array.\n",
    "\n",
    "Example 2:\n",
    "\n",
    "> Input: nums= [1, 2, 3, 1]<br>Output: true  <br>Explanation: '1' is repeating.\n"
   ]
  },
  {
   "cell_type": "markdown",
   "metadata": {},
   "source": [
    "just converted the list to a set (no duplicates allowed) & compared the lengths"
   ]
  },
  {
   "cell_type": "code",
   "execution_count": 3,
   "metadata": {},
   "outputs": [
    {
     "name": "stdout",
     "output_type": "stream",
     "text": [
      "False\n",
      "True\n",
      "False\n",
      "True\n"
     ]
    }
   ],
   "source": [
    "def containsDuplicate(nums):\n",
    "    unique_nums = set(nums)\n",
    "    if len(unique_nums) != len(nums):\n",
    "        return True\n",
    "    return False\n",
    "\n",
    "print(containsDuplicate([1,2,3,4]))\n",
    "print(containsDuplicate([2,2,3,4]))\n",
    "print(containsDuplicate([1]))\n",
    "print(containsDuplicate(['a', 'a', 'b', 'c']))"
   ]
  }
 ],
 "metadata": {
  "kernelspec": {
   "display_name": "base",
   "language": "python",
   "name": "python3"
  },
  "language_info": {
   "codemirror_mode": {
    "name": "ipython",
    "version": 3
   },
   "file_extension": ".py",
   "mimetype": "text/x-python",
   "name": "python",
   "nbconvert_exporter": "python",
   "pygments_lexer": "ipython3",
   "version": "3.9.13"
  },
  "orig_nbformat": 4
 },
 "nbformat": 4,
 "nbformat_minor": 2
}
