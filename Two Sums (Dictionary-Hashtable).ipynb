{
 "cells": [
  {
   "cell_type": "markdown",
   "metadata": {},
   "source": [
    "# LeetCode: [Two Sum](https://leetcode.com/problems/two-sum)\n",
    "\n",
    "__Difficulty: Easy__\n",
    "\n",
    "__Data Structure(s): Dictionary/Hashtable, List__\n",
    "\n",
    "<hr>\n",
    "\n",
    "### Description:\n",
    "\n",
    "Given an array of integers nums and an integer target, return indices of the two numbers such that they add up to target.\n",
    "\n",
    "You may assume that each input would have exactly one solution, and you may not use the same element twice.\n",
    "\n",
    "You can return the answer in any order.\n",
    "\n",
    " \n",
    "\n",
    "Example 1:\n",
    "\n",
    "> Input: nums = [2,7,11,15], target = 9<br>Output: [0,1]<br>Explanation: Because nums[0] + nums[1] == 9, we return [0, 1].\n",
    "\n",
    "Example 2:\n",
    "\n",
    ">Input: nums = [3,2,4], target = 6<br>Output: [1,2]\n",
    "\n",
    "Example 3:\n",
    "\n",
    ">Input: nums = [3,3], target = 6<br>Output: [0,1]\n",
    "\n",
    " \n",
    "\n",
    "Constraints:\n",
    "\n",
    "* `2 <= nums.length <= 104`\n",
    "* `-109 <= nums[i] <= 109`\n",
    "* `-109 <= target <= 109`\n",
    "* Only one valid answer exists.\n",
    "\n",
    " \n",
    "Follow-up: Can you come up with an algorithm that is less than O(n^2) time complexity?\n",
    "\n",
    "<hr>"
   ]
  },
  {
   "cell_type": "markdown",
   "metadata": {},
   "source": [
    "Even better solution:\n",
    "\n",
    "*O(n) time complexity* --> Dictionary/Hashtable"
   ]
  },
  {
   "cell_type": "code",
   "execution_count": 1,
   "metadata": {},
   "outputs": [
    {
     "name": "stdout",
     "output_type": "stream",
     "text": [
      "Indices: [1, 0]\n"
     ]
    }
   ],
   "source": [
    "pairs = {}\n",
    "\n",
    "ls2 = [2,7,11,15]\n",
    "target = 9\n",
    "\n",
    "for i in range(len(ls2)):\n",
    "    # subtract the number at the current index from the target number & check to see if the result exists in the dictionary\n",
    "    needed_num = target - ls2[i]\n",
    "\n",
    "    if needed_num in pairs:\n",
    "        print(\"Indices:\", [i, pairs[needed_num]])\n",
    "\n",
    "    # if it doesn't exist yet, keep adding key/values to dictionary\n",
    "    pairs[ls2[i]] = i"
   ]
  },
  {
   "cell_type": "markdown",
   "metadata": {},
   "source": [
    "Initial Attempt:\n",
    "\n",
    "*Passed only 80% of test cases*"
   ]
  },
  {
   "cell_type": "code",
   "execution_count": 164,
   "metadata": {},
   "outputs": [],
   "source": [
    "ls = [3,2,4]\n",
    "\n",
    "\n",
    "# 0th index: indexes except its own (3 indexes: 1, 2, 3) --> 0[x] to 1[y] { (0,1), (0,2), (0,3) }\n",
    "# 1st index: indexes except 0 and its own (2 indexes: 2, 3) --> 1[x] to 2[y] { (1,2), (1,3) }\n",
    "# 2nd index: indexes except 0,1 and its own (1 index: 3) --> 2[x] to 3[y] { (2,3) }\n",
    "\n",
    "\n",
    "\n",
    "x_coordinate_indexes = []\n",
    "x_coordinate_txt = \"\"\n",
    "y_coordinate_indexes = []\n",
    "\n",
    "\n",
    "\n",
    "maxIndex = len(ls) - 1\n",
    "indextemp_forward = 0\n",
    "indextemp_backward = len(ls) - 1\n",
    "target = 6\n",
    "\n",
    "\n",
    "while maxIndex >= 0:\n",
    "\n",
    "    for index in range(len(ls)):\n",
    "        x_coordinate_txt += str(index) * indextemp_backward \n",
    "   \n",
    "        indextemp_backward -= 1\n",
    "        indextemp_forward += 1\n",
    "\n",
    "        if indextemp_forward <= maxIndex:\n",
    "            y_coordinate_indexes.append(indextemp_forward)\n",
    "\n",
    "    \n",
    "\n",
    "    maxIndex -= 1\n",
    "\n",
    "    # When finished with for loop above, indextemp_forward will be 3, will need to go back by two places for each while loop iteration\n",
    "    indextemp_forward -= 2\n",
    "\n",
    "\n",
    "# Splitting x_coordinate txt string and appending each index to the x_coordinate array\n",
    "for char_index in range(len(x_coordinate_txt)):\n",
    "    x_coordinate_indexes.append(int(x_coordinate_txt[char_index]))\n",
    "\n",
    "\n",
    "\n",
    "\n",
    "\n",
    "for index in range(min(len(x_coordinate_indexes), len(y_coordinate_indexes))):\n",
    "    if ls[x_coordinate_indexes[index]] + ls[y_coordinate_indexes[index]] == target:\n",
    "        print([x_coordinate_indexes[index], y_coordinate_indexes[index]])\n",
    "\n"
   ]
  },
  {
   "cell_type": "markdown",
   "metadata": {},
   "source": [
    "Better (correct) solution:\n",
    "\n",
    "*However, O(n^2) time complexity* --> Nested For Loops"
   ]
  },
  {
   "cell_type": "code",
   "execution_count": 182,
   "metadata": {},
   "outputs": [
    {
     "name": "stdout",
     "output_type": "stream",
     "text": [
      "[1, 2]\n"
     ]
    }
   ],
   "source": [
    "ls2 = [2,5,5,11]\n",
    "target = 10\n",
    "baseCondition = True\n",
    "\n",
    "for x in range(0, len(ls2)):\n",
    "    for y in range(1, len(ls2)):\n",
    "\n",
    "        if ls2[x] + ls2[y] == target and x != y and baseCondition:\n",
    "            print([x, y])\n",
    "            baseCondition = False\n",
    "\n"
   ]
  }
 ],
 "metadata": {
  "kernelspec": {
   "display_name": "Python 3.9.10 ('base')",
   "language": "python",
   "name": "python3"
  },
  "language_info": {
   "codemirror_mode": {
    "name": "ipython",
    "version": 3
   },
   "file_extension": ".py",
   "mimetype": "text/x-python",
   "name": "python",
   "nbconvert_exporter": "python",
   "pygments_lexer": "ipython3",
   "version": "3.9.13"
  },
  "orig_nbformat": 4,
  "vscode": {
   "interpreter": {
    "hash": "3b806cc711b465e66e8252dff191d8681f8b41038e9cbc25fa942edafd26a2d7"
   }
  }
 },
 "nbformat": 4,
 "nbformat_minor": 2
}
