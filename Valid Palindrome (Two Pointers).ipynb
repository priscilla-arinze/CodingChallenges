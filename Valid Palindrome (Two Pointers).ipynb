{
 "cells": [
  {
   "cell_type": "markdown",
   "metadata": {},
   "source": [
    "# LeetCode: [Valid Palindrome](https://leetcode.com/problems/valid-palindrome/)\n",
    "\n",
    "__Difficulty: Easy__\n",
    "\n",
    "__Data Structure(s): String__\n",
    "\n",
    "__Common Pattern: Two Pointers__\n",
    "\n",
    "<hr>\n",
    "\n",
    "### Description:\n",
    "\n",
    "A phrase is a palindrome if, after converting all uppercase letters into lowercase letters and <u>__removing all non-alphanumeric character__</u>, it reads the same forward and backward. Alphanumeric characters include letters and numbers.\n",
    "\n",
    "Given a string s, return true if it is a palindrome, or false otherwise.\n",
    "\n",
    " \n",
    "\n",
    "Example 1:\n",
    "\n",
    "> Input: s = \"A man, a plan, a canal: Panama\"<br>Output: true<br>Explanation: \"amanaplanacanalpanama\" is a palindrome.\n",
    "\n",
    "\n",
    "Example 2:\n",
    "\n",
    "> Input: s = \" \"<br>Output: true<br>Explanation: s is an empty string \"\" after removing non-alphanumeric characters.<br>Since an empty string reads the same forward and backward, it is a palindrome.<br>\n",
    "\n",
    "\n",
    "Example 3:\n",
    "\n",
    ">Input: nums = [3,3], target = 6 <br>Output: [0,1]\n",
    "\n",
    "\n",
    " \n",
    "\n",
    "Constraints:\n",
    "\n",
    "* `1 <= s.length <= 2 * 105`\n",
    "* s consists only of printable ASCII characters.\n",
    "\n",
    "<hr>"
   ]
  },
  {
   "cell_type": "markdown",
   "metadata": {},
   "source": [
    "*No libraries, no list comprehensions / generators, low space complexity (less pythonic)*"
   ]
  },
  {
   "cell_type": "code",
   "execution_count": 12,
   "metadata": {},
   "outputs": [
    {
     "name": "stdout",
     "output_type": "stream",
     "text": [
      "True\n",
      "True\n",
      "False\n",
      "True\n",
      "False\n",
      "True\n",
      "True\n",
      "True\n",
      "False\n"
     ]
    }
   ],
   "source": [
    "def isPalindrome(s: str):\n",
    "    \"\"\"\n",
    "    :type s: str\n",
    "    :rtype: bool\n",
    "    \"\"\"\n",
    "    # remove all non-alphanumeric characters and converts all characters to lowercase\n",
    "    s_alphanum = \"\"\n",
    "    for char in s:\n",
    "        if char.isalnum():\n",
    "            s_alphanum += char.lower()\n",
    "\n",
    "    for i in range(len(s_alphanum)):\n",
    "        # two pointers to iterate with\n",
    "        if s_alphanum[i] != s_alphanum[len(s_alphanum)-1-i]:\n",
    "            return False\n",
    "    \n",
    "    return True\n",
    "\n",
    "\n",
    "print(isPalindrome(\"A man, a plan, a canal: Panama\"))\n",
    "print(isPalindrome(\"baab\"))\n",
    "print(isPalindrome(\"bleh\"))\n",
    "print(isPalindrome(\"kayak\"))\n",
    "print(isPalindrome(\"kayaks\"))\n",
    "print(isPalindrome(\"racecar\"))\n",
    "print(isPalindrome(\"\"))\n",
    "print(isPalindrome(\" \"))\n",
    "print(isPalindrome(\"notpalindrome\"))"
   ]
  },
  {
   "cell_type": "markdown",
   "metadata": {},
   "source": [
    "*Using regex, no list comprehensions (A little less pythonic)*"
   ]
  },
  {
   "cell_type": "code",
   "execution_count": 3,
   "metadata": {},
   "outputs": [
    {
     "name": "stdout",
     "output_type": "stream",
     "text": [
      "True\n",
      "True\n",
      "False\n",
      "True\n",
      "False\n",
      "True\n",
      "True\n",
      "True\n",
      "False\n"
     ]
    }
   ],
   "source": [
    "import re\n",
    "\n",
    "def isPalindrome1(s: str):\n",
    "    \"\"\"\n",
    "    :type s: str\n",
    "    :rtype: bool\n",
    "    \"\"\"\n",
    "    # remove all non-alphanumeric characters and converts all characters to lowercase\n",
    "    s = ''.join(re.findall(r'[A-Za-z0-9]', s.lower()))\n",
    "\n",
    "    for i in range(len(s)):\n",
    "        # two pointers to iterate with; left: s[i], right: s[len(s)-1-i]\n",
    "        if s[i] != s[len(s)-1-i]:\n",
    "            return False\n",
    "    \n",
    "    return True\n",
    "\n",
    "print(isPalindrome1(\"A man, a plan, a canal: Panama\"))\n",
    "print(isPalindrome1(\"baab\"))\n",
    "print(isPalindrome1(\"bleh\"))\n",
    "print(isPalindrome1(\"kayak\"))\n",
    "print(isPalindrome1(\"kayaks\"))\n",
    "print(isPalindrome1(\"racecar\"))\n",
    "print(isPalindrome1(\"\"))\n",
    "print(isPalindrome1(\" \"))\n",
    "print(isPalindrome1(\"notpalindrome\"))"
   ]
  },
  {
   "cell_type": "markdown",
   "metadata": {},
   "source": [
    "*Using a list comprehension / generator (Pythonic solution)*\n",
    "\n",
    "* Pros: Easy to implement, faster runtime performance\n",
    "* Cons: High memory usage"
   ]
  },
  {
   "cell_type": "code",
   "execution_count": 4,
   "metadata": {},
   "outputs": [
    {
     "name": "stdout",
     "output_type": "stream",
     "text": [
      "True\n",
      "True\n",
      "False\n",
      "True\n",
      "False\n",
      "True\n",
      "True\n",
      "True\n",
      "False\n"
     ]
    }
   ],
   "source": [
    "def isPalindrome2(s: str):\n",
    "    \"\"\"\n",
    "    :type s: str\n",
    "    :rtype: bool\n",
    "    \"\"\"\n",
    "    # remove all non-alphanumeric characters and converts all characters to lowercase\n",
    "    s = ''.join(char.lower() for char in s if char.isalnum())\n",
    "\n",
    "    for i in range(len(s)):\n",
    "        # two pointers to iterate with; left: s[i], right: s[len(s)-1-i]\n",
    "        if s[i] != s[len(s)-1-i]:\n",
    "            return False\n",
    "    \n",
    "    return True\n",
    "\n",
    "print(isPalindrome2(\"A man, a plan, a canal: Panama\"))\n",
    "print(isPalindrome2(\"baab\"))\n",
    "print(isPalindrome2(\"bleh\"))\n",
    "print(isPalindrome2(\"kayak\"))\n",
    "print(isPalindrome2(\"kayaks\"))\n",
    "print(isPalindrome2(\"racecar\"))\n",
    "print(isPalindrome2(\"\"))\n",
    "print(isPalindrome2(\" \"))\n",
    "print(isPalindrome2(\"notpalindrome\"))"
   ]
  }
 ],
 "metadata": {
  "kernelspec": {
   "display_name": "base",
   "language": "python",
   "name": "python3"
  },
  "language_info": {
   "codemirror_mode": {
    "name": "ipython",
    "version": 3
   },
   "file_extension": ".py",
   "mimetype": "text/x-python",
   "name": "python",
   "nbconvert_exporter": "python",
   "pygments_lexer": "ipython3",
   "version": "3.9.13"
  },
  "orig_nbformat": 4
 },
 "nbformat": 4,
 "nbformat_minor": 2
}
