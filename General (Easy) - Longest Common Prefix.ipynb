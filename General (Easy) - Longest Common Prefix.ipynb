{
 "cells": [
  {
   "cell_type": "markdown",
   "metadata": {},
   "source": [
    "# LeetCode: [Longest Common Prefix](https://leetcode.com/problems/longest-common-prefix/)\n",
    "\n",
    "__Difficulty: Easy__\n",
    "\n",
    "__Data Structure(s): Array, String__\n",
    "\n",
    "__Common Pattern: Two Pointers__\n",
    "\n",
    "__Techniques(s): ASCII math, incrementing/decrementing pointers within while loop__\n",
    "\n",
    "<hr>\n",
    "\n",
    "### Description:\n",
    "\n",
    "Write a function to find the longest common prefix string amongst an array of strings.\n",
    "\n",
    "If there is no common prefix, return an empty string \"\".\n",
    "\n",
    " \n",
    "\n",
    "Example 1:\n",
    "\n",
    "> Input: strs = [\"flower\",\"flow\",\"flight\"]<br>Output: \"fl\"\n",
    "\n",
    "\n",
    "Example 2:\n",
    "\n",
    "> Input: strs = [\"dog\",\"racecar\",\"car\"]<br>Output: \"\"<br>Explanation: There is no common prefix among the input strings.\n",
    "\n",
    "\n",
    "\n",
    "Constraints:\n",
    "* `1 <= strs.length <= 200`\n",
    "* `0 <= strs[i].length <= 200`\n",
    "* `strs[i]` consists of only lowercase English letters.\n",
    "\n",
    "\n",
    "<hr>"
   ]
  },
  {
   "cell_type": "markdown",
   "metadata": {},
   "source": [
    "Time complexity: $O(K * N)$\n",
    "* $K$: number of characters for each string\n",
    "* $N$: number of string in list \n",
    "\n",
    "Space Complexity: $O(1)$"
   ]
  },
  {
   "cell_type": "code",
   "execution_count": 2,
   "metadata": {},
   "outputs": [
    {
     "name": "stdout",
     "output_type": "stream",
     "text": [
      "fl\n",
      "\n"
     ]
    }
   ],
   "source": [
    "def longestCommonPrefix(strs: list[str]) -> str:\n",
    "    prefix = \"\"\n",
    "    \n",
    "    if (len(strs) == 0):\n",
    "        return \"\"\n",
    "    \n",
    "    minAlphabetic = min(strs)\n",
    "    maxAlphabetic = max(strs)\n",
    "    minLength = min(len(minAlphabetic), len(maxAlphabetic))\n",
    "    \n",
    "    minAlphabetic = minAlphabetic[0:minLength]\n",
    "    maxAlphabetic = maxAlphabetic[0:minLength]\n",
    "\n",
    "    if (minAlphabetic == maxAlphabetic):\n",
    "        return minAlphabetic\n",
    "    else:\n",
    "        for i in range(0, minLength):\n",
    "            if(minAlphabetic[i] != maxAlphabetic[i]):\n",
    "                return prefix\n",
    "            else:\n",
    "                prefix += minAlphabetic[i]\n",
    "    \n",
    "    return prefix\n",
    "\n",
    "print(longestCommonPrefix([\"flower\",\"flow\",\"flight\"]))\n",
    "print(longestCommonPrefix([\"dog\",\"racecar\",\"car\"])) # \"\""
   ]
  }
 ],
 "metadata": {
  "kernelspec": {
   "display_name": "base",
   "language": "python",
   "name": "python3"
  },
  "language_info": {
   "codemirror_mode": {
    "name": "ipython",
    "version": 3
   },
   "file_extension": ".py",
   "mimetype": "text/x-python",
   "name": "python",
   "nbconvert_exporter": "python",
   "pygments_lexer": "ipython3",
   "version": "3.9.13"
  }
 },
 "nbformat": 4,
 "nbformat_minor": 2
}
