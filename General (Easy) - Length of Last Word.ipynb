{
 "cells": [
  {
   "cell_type": "markdown",
   "metadata": {},
   "source": [
    "# LeetCode: [Length of Last Word](https://leetcode.com/problems/length-of-last-word)\n",
    "\n",
    "__Difficulty: Easy__\n",
    "\n",
    "__Data Structure(s): String__\n",
    "\n",
    "__Techniques(s): Iterating backwards with while loop__\n",
    "\n",
    "<hr>\n",
    "\n",
    "### Description:\n",
    "\n",
    "Given a string s consisting of words and spaces, return the length of the last word in the string.\n",
    "\n",
    "A word is a maximal substring consisting of non-space characters only.\n",
    "\n",
    " \n",
    "\n",
    "Example 1:\n",
    "\n",
    "> Input: s = \"Hello World\"<br>Output: 5<br>Explanation: The last word is \"World\" with length 5.\n",
    "\n",
    "\n",
    "Example 2:\n",
    "\n",
    "> Input: s = \"   fly me   to   the moon  \"<br>Output: 4<br>Explanation: The last word is \"moon\" with length 4.\n",
    "\n",
    "Example 3:\n",
    "> Input: s = \"luffy is still joyboy\"<br>Output: 6<br>Explanation: The last word is \"joyboy\" with length 6.\n",
    "\n",
    "\n",
    "Constraints:\n",
    "* `1 <= s.length <= 104`\n",
    "* `s` consists of only English letters and spaces ' '.\n",
    "* There will be at least one word in `s`.\n",
    "\n",
    "\n",
    "\n",
    "<hr>"
   ]
  },
  {
   "cell_type": "markdown",
   "metadata": {},
   "source": [
    "*Finally correct*\n",
    "\n",
    "Time complexity: $O(N)$\n",
    "\n",
    "Space complexity: $O(1)$"
   ]
  },
  {
   "cell_type": "code",
   "execution_count": 11,
   "metadata": {},
   "outputs": [
    {
     "name": "stdout",
     "output_type": "stream",
     "text": [
      "4\n",
      "1\n",
      "1\n",
      "1\n"
     ]
    }
   ],
   "source": [
    "def lengthOfLastWord(s: str) -> int:\n",
    "    s = s.lower()\n",
    "\n",
    "    reverseIndex = len(s) - 1\n",
    "    lastWordLength = 0\n",
    "\n",
    "    while reverseIndex >= 0:\n",
    "        if(s[reverseIndex] != \" \"):\n",
    "            lastWordLength += 1\n",
    "\n",
    "        # if there is a space right before a letter, return current length\n",
    "        if(s[reverseIndex] != \" \" and reverseIndex != 0 and s[reverseIndex - 1] == \" \"):\n",
    "            return lastWordLength\n",
    "\n",
    "        reverseIndex -= 1\n",
    "\n",
    "    # in the case where there are no spaces in s\n",
    "    return lastWordLength\n",
    "\n",
    "print(lengthOfLastWord(\"   fly me   to   the moon  \"))\n",
    "print(lengthOfLastWord(\" a\"))\n",
    "print(lengthOfLastWord(\"a \"))\n",
    "print(lengthOfLastWord(\"a\"))"
   ]
  },
  {
   "cell_type": "markdown",
   "metadata": {},
   "source": [
    "*Initial incorrect solution*\n",
    "\n",
    "Test case failed: \"a \""
   ]
  },
  {
   "cell_type": "code",
   "execution_count": 8,
   "metadata": {},
   "outputs": [
    {
     "name": "stdout",
     "output_type": "stream",
     "text": [
      "4\n",
      "1\n"
     ]
    }
   ],
   "source": [
    "def isLetter(char):\n",
    "        return ord('a') <= ord(char) <= ord('z')\n",
    "\n",
    "def lengthOfLastWord(s: str) -> int:\n",
    "    s = s.lower()\n",
    "\n",
    "    reverseIndex = len(s) - 1\n",
    "    lastWordLength = 0\n",
    "\n",
    "    while reverseIndex >= 0:\n",
    "        if(isLetter(s[reverseIndex])):\n",
    "            lastWordLength += 1\n",
    "\n",
    "        if(isLetter(s[reverseIndex]) and reverseIndex != 0 and s[reverseIndex - 1] == \" \"):\n",
    "            return lastWordLength\n",
    "\n",
    "        reverseIndex -= 1\n",
    "\n",
    "    # in the case where there are no spaces in s\n",
    "    return len(s)\n",
    "\n",
    "print(lengthOfLastWord(\"   fly me   to   the moon  \"))\n",
    "print(lengthOfLastWord(\" a\"))"
   ]
  },
  {
   "cell_type": "markdown",
   "metadata": {},
   "source": [
    "*Initial incorrect solution*\n",
    "\n",
    "Test case failed: \" a\""
   ]
  },
  {
   "cell_type": "code",
   "execution_count": null,
   "metadata": {},
   "outputs": [],
   "source": [
    "def isLetter(char):\n",
    "        return ord('a') <= ord(char) <= ord('z')\n",
    "\n",
    "def lengthOfLastWord(s: str) -> int:\n",
    "    s = s.lower()\n",
    "\n",
    "    reverseIndex = len(s) - 1\n",
    "    lastWordLength = 0\n",
    "    spaceFound = False\n",
    "\n",
    "    while reverseIndex > 0:\n",
    "        if(isLetter(s[reverseIndex])):\n",
    "            lastWordLength += 1\n",
    "\n",
    "        if(reverseIndex != len(s) - 1 and s[reverseIndex] == \" \" and isLetter(s[reverseIndex + 1]) and isLetter(s[reverseIndex ])):\n",
    "            spaceFound = True\n",
    "            break\n",
    "\n",
    "        reverseIndex -= 1\n",
    "    \n",
    "    if (spaceFound == False):\n",
    "        return len(s)\n",
    "\n",
    "    return lastWordLength"
   ]
  }
 ],
 "metadata": {
  "kernelspec": {
   "display_name": "base",
   "language": "python",
   "name": "python3"
  },
  "language_info": {
   "codemirror_mode": {
    "name": "ipython",
    "version": 3
   },
   "file_extension": ".py",
   "mimetype": "text/x-python",
   "name": "python",
   "nbconvert_exporter": "python",
   "pygments_lexer": "ipython3",
   "version": "3.9.13"
  }
 },
 "nbformat": 4,
 "nbformat_minor": 2
}
